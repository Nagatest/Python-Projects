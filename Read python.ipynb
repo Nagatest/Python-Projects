{
 "cells": [
  {
   "cell_type": "code",
   "execution_count": 1,
   "metadata": {},
   "outputs": [
    {
     "data": {
      "text/plain": [
       "array([], dtype=float64)"
      ]
     },
     "execution_count": 1,
     "metadata": {},
     "output_type": "execute_result"
    }
   ],
   "source": [
    "import numpy as np\n",
    "np.array([])"
   ]
  },
  {
   "cell_type": "code",
   "execution_count": 7,
   "metadata": {},
   "outputs": [
    {
     "data": {
      "text/plain": [
       "{'sun': 'mon', 'tue': 'wed', 'thurs': 'fri'}"
      ]
     },
     "execution_count": 7,
     "metadata": {},
     "output_type": "execute_result"
    }
   ],
   "source": [
    "#Turn the list into a dictionary\n",
    "weekdays = ['sun','mon','tue','wed','thurs','fri']\n",
    "listasDict = dict(zip(weekdays[0::2], weekdays[1::2]))\n",
    "listasDict"
   ]
  },
  {
   "cell_type": "code",
   "execution_count": 12,
   "metadata": {},
   "outputs": [
    {
     "name": "stdout",
     "output_type": "stream",
     "text": [
      "{'wed', 'tue', 'sat', 'mon', 'thurs', 'fri', 'sun'}\n",
      "('sun', 'mon', 'tue', 'wed', 'thurs', 'fri', 'sat', 'mon', 'wed')\n",
      "sun mon tue wed thurs fri sat mon wed\n"
     ]
    }
   ],
   "source": [
    "#Turn a list into set, tuple and string\n",
    "weekdays = ['sun','mon','tue','wed','thurs','fri','sat','mon','wed']\n",
    "listasset = set(weekdays)\n",
    "listasTuple = tuple(weekdays)\n",
    "listasString = ' '.join(weekdays)\n",
    "print(listasset)\n",
    "print(listasTuple)\n",
    "print(listasString)"
   ]
  },
  {
   "cell_type": "code",
   "execution_count": 17,
   "metadata": {},
   "outputs": [
    {
     "name": "stdout",
     "output_type": "stream",
     "text": [
      "sun\n",
      "mon\n"
     ]
    }
   ],
   "source": [
    "#Yield Keyword\n",
    "# The yield keyword can turn any function into a generator. It works like a standard return keyword. But it will always\n",
    "# return a generator object. also, a method can have multiple calls to the yield method\n",
    "def testgen(index):\n",
    "    weekdays = ['sun','mon','tue','wed','thus','fri','sat']\n",
    "    yield weekdays[index]\n",
    "    yield weekdays[index+1]\n",
    "    yield weekdays[index+2]\n",
    "day = testgen(0)\n",
    "print(next(day))\n",
    "print(next(day))"
   ]
  },
  {
   "cell_type": "code",
   "execution_count": 18,
   "metadata": {},
   "outputs": [
    {
     "name": "stdout",
     "output_type": "stream",
     "text": [
      "35\n"
     ]
    }
   ],
   "source": [
    "x, y = 35, 75\n",
    "smaller = x if x < y else y\n",
    "print(smaller)"
   ]
  },
  {
   "cell_type": "code",
   "execution_count": 19,
   "metadata": {},
   "outputs": [
    {
     "name": "stdout",
     "output_type": "stream",
     "text": [
      "Programming\n",
      "1\n",
      "Programming\n",
      "2\n"
     ]
    }
   ],
   "source": [
    "class Test:\n",
    "    aclass = 'Programming' # a class variable\n",
    "    def __init__(self, ainst):\n",
    "        self.ainst = ainst # instance variable\n",
    "\n",
    "#objects of Test class\n",
    "test1 = Test(1)\n",
    "test2 = Test(2)\n",
    "\n",
    "print(test1.aclass)\n",
    "print(test1.ainst)\n",
    "\n",
    "print(test2.aclass)\n",
    "print(test2.ainst)"
   ]
  },
  {
   "cell_type": "code",
   "execution_count": 20,
   "metadata": {},
   "outputs": [
    {
     "name": "stdout",
     "output_type": "stream",
     "text": [
      "{('madem', 25, 'Software'), ('nagu', 22, 'HR'), ('rani', 21, 'admin')}\n"
     ]
    }
   ],
   "source": [
    "#Zip method use to map the corresponding index of multple containers so that we can use them as a sinle unit\n",
    "emp = ['nagu','madem','rani']\n",
    "age = [22,25,21]\n",
    "dept = ['HR','Software','admin']\n",
    "\n",
    "#calling the .zip() fuction\n",
    "out = zip(emp,age,dept)\n",
    "out = set(out)\n",
    "print(out)"
   ]
  },
  {
   "cell_type": "code",
   "execution_count": 21,
   "metadata": {},
   "outputs": [
    {
     "name": "stdout",
     "output_type": "stream",
     "text": [
      "Before the function call\n",
      "After the function call\n",
      "9\n"
     ]
    }
   ],
   "source": [
    "#Decoraters gives us ability to add new behaviour to the given objects dynamically. \n",
    "def decorator_sample(func):\n",
    "    def decorator_hook(*args, **kwargs):\n",
    "        print(\"Before the function call\")\n",
    "        result = func(*args, **kwargs)\n",
    "        print(\"After the function call\")\n",
    "        return result\n",
    "    return decorator_hook\n",
    "\n",
    "@decorator_sample\n",
    "def product(x, y):\n",
    "    \"Function to multiply two numbers.\"\n",
    "    return x * y\n",
    "\n",
    "print(product(3, 3))"
   ]
  },
  {
   "cell_type": "code",
   "execution_count": 22,
   "metadata": {},
   "outputs": [
    {
     "name": "stdout",
     "output_type": "stream",
     "text": [
      "22\n",
      "48\n",
      "6\n"
     ]
    }
   ],
   "source": [
    "#Python closure are function objects returned by another function. we use them to eliminate code redundancy.\n",
    "def multiply_number(num):\n",
    "    def product(number):\n",
    "        'product() here is a closure'\n",
    "        return num * number\n",
    "    return product\n",
    "\n",
    "num_2 = multiply_number(2)\n",
    "print(num_2(11))\n",
    "print(num_2(24))\n",
    "\n",
    "num_6 = multiply_number(6)\n",
    "print(num_6(1))"
   ]
  },
  {
   "cell_type": "code",
   "execution_count": null,
   "metadata": {},
   "outputs": [
    {
     "name": "stdout",
     "output_type": "stream",
     "text": [
      "Enter an odd number- 1\n",
      "Value entered is : 1\n",
      "Enter an odd number- 2\n",
      "Exited due to invalid input!!!\n"
     ]
    }
   ],
   "source": [
    "# Example - Raise an exception\n",
    "while True:\n",
    "    try:\n",
    "        value = int(input(\"Enter an odd number- \"))\n",
    "        if value%2 == 0:\n",
    "            raise ValueError(\"Exited due to invalid input!!!\")\n",
    "        else:\n",
    "            print(\"Value entered is : %s\" % value)\n",
    "    except ValueError as ex:\n",
    "        print(ex)"
   ]
  },
  {
   "cell_type": "code",
   "execution_count": null,
   "metadata": {},
   "outputs": [],
   "source": [
    "def div(x,y):\n",
    "    print(x,y,x/y)\n",
    "    \n",
    "div(5,2)"
   ]
  },
  {
   "cell_type": "code",
   "execution_count": null,
   "metadata": {},
   "outputs": [],
   "source": []
  }
 ],
 "metadata": {
  "kernelspec": {
   "display_name": "Python 3",
   "language": "python",
   "name": "python3"
  },
  "language_info": {
   "codemirror_mode": {
    "name": "ipython",
    "version": 3
   },
   "file_extension": ".py",
   "mimetype": "text/x-python",
   "name": "python",
   "nbconvert_exporter": "python",
   "pygments_lexer": "ipython3",
   "version": "3.7.3"
  }
 },
 "nbformat": 4,
 "nbformat_minor": 2
}
