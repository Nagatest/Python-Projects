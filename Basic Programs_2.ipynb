{
 "cells": [
  {
   "cell_type": "code",
   "execution_count": 8,
   "metadata": {},
   "outputs": [],
   "source": [
    "import pandas as pd\n",
    "from collections import OrderedDict\n",
    "from datetime import date"
   ]
  },
  {
   "cell_type": "code",
   "execution_count": 12,
   "metadata": {},
   "outputs": [
    {
     "name": "stdout",
     "output_type": "stream",
     "text": [
      "    account  Jan  Feb\n",
      "0     Jones  150  200\n",
      "1     Alpha  160  300\n",
      "2  Blue Inc  170  400\n"
     ]
    }
   ],
   "source": [
    "#Creating the data frame using the dictionary\n",
    "sales = {'account':['Jones','Alpha','Blue Inc'],\n",
    "         'Jan':[150,160,170],\n",
    "         'Feb':[200,300,400]\n",
    "        }\n",
    "df = pd.DataFrame.from_dict(sales)\n",
    "print(df)"
   ]
  },
  {
   "cell_type": "code",
   "execution_count": 13,
   "metadata": {},
   "outputs": [
    {
     "name": "stdout",
     "output_type": "stream",
     "text": [
      "     Name  Age  Salary\n",
      "0    Nagu   30     500\n",
      "1    Rani   29     400\n",
      "2  Mayank    4     100\n"
     ]
    }
   ],
   "source": [
    "#Creating the data frame using the list\n",
    "Order = [('Nagu',30,500),\n",
    "        ('Rani',29,400),\n",
    "        ('Mayank',4,100)]\n",
    "labels = ['Name','Age','Salary']\n",
    "List_dataframe = pd.DataFrame.from_records(Order, columns=labels)\n",
    "print(List_dataframe)"
   ]
  },
  {
   "cell_type": "code",
   "execution_count": 3,
   "metadata": {},
   "outputs": [
    {
     "data": {
      "text/plain": [
       "{1, 2, 3, 4, 5}"
      ]
     },
     "execution_count": 3,
     "metadata": {},
     "output_type": "execute_result"
    }
   ],
   "source": [
    "s=set([1,2,3])\n",
    "s.union([4,5])\n"
   ]
  },
  {
   "cell_type": "code",
   "execution_count": 5,
   "metadata": {},
   "outputs": [
    {
     "data": {
      "text/plain": [
       "True"
      ]
     },
     "execution_count": 5,
     "metadata": {},
     "output_type": "execute_result"
    }
   ],
   "source": [
    "s={1,2,3}\n",
    "s.issubset(s)"
   ]
  },
  {
   "cell_type": "code",
   "execution_count": 6,
   "metadata": {},
   "outputs": [
    {
     "name": "stdout",
     "output_type": "stream",
     "text": [
      "bu\n"
     ]
    }
   ],
   "source": [
    "s='cppbuzz chicago'\n",
    "print(s[3:5])"
   ]
  },
  {
   "cell_type": "code",
   "execution_count": null,
   "metadata": {},
   "outputs": [],
   "source": []
  }
 ],
 "metadata": {
  "kernelspec": {
   "display_name": "Python 3",
   "language": "python",
   "name": "python3"
  },
  "language_info": {
   "codemirror_mode": {
    "name": "ipython",
    "version": 3
   },
   "file_extension": ".py",
   "mimetype": "text/x-python",
   "name": "python",
   "nbconvert_exporter": "python",
   "pygments_lexer": "ipython3",
   "version": "3.7.3"
  }
 },
 "nbformat": 4,
 "nbformat_minor": 2
}
