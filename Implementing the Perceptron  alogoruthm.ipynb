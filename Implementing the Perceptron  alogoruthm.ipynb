{
 "cells": [
  {
   "cell_type": "code",
   "execution_count": 3,
   "metadata": {},
   "outputs": [],
   "source": [
    "import numpy as np\n",
    "from numpy.random import seed\n",
    "import pandas as pd\n",
    "import matplotlib.pyplot as plt\n",
    "from matplotlib.colors import ListedColormap\n",
    "from matplotlib import rcParams\n",
    "\n",
    "#set the plot figure size\n",
    "rcParams[\"figure.figsize\"]=10,5\n"
   ]
  },
  {
   "cell_type": "code",
   "execution_count": null,
   "metadata": {},
   "outputs": [],
   "source": [
    "class perceptron(object):\n",
    "    \"\"\"\"\n",
    "    Percpetion classifier.\n",
    "    \n",
    "    parameters\n",
    "    --------------------\n",
    "    eta: float\n",
    "        Learning rate between 0.0 and 1.0\n",
    "        n_iter: int\n",
    "        Passes (epochs) over the trainig set\n",
    "    \n",
    "    attributes\n",
    "    ---------------------------\n",
    "    w_: 1d_array\n",
    "        weights after fitting\n",
    "        errors_: list\n",
    "        Number of misclassification in every epoch\n",
    "    \n",
    "    \"\"\"\"\n",
    "    def __init__(self,eta=0.01,n_iter=10):\n",
    "        self.eta = eta\n",
    "        self.n_iter = n_iter\n",
    "    \n",
    "    def fit(self,X,y):\n",
    "        \"\"\"\n",
    "        Fit method for training data\n",
    "        \n",
    "        paramters\n",
    "        ---------------------\n",
    "        X: {array-like}, shape =[n_samples,n_features]\n",
    "        training vectors, where n_samples is the number of samples and n_features is the number of featrues\n",
    "        y: {array_like}, shape = [n_samples]\n",
    "        Target values\n",
    "        \n",
    "        returns\n",
    "        -------------\n",
    "        self: object\n",
    "        \"\"\"\n",
    "        "
   ]
  }
 ],
 "metadata": {
  "kernelspec": {
   "display_name": "Python 3",
   "language": "python",
   "name": "python3"
  },
  "language_info": {
   "codemirror_mode": {
    "name": "ipython",
    "version": 3
   },
   "file_extension": ".py",
   "mimetype": "text/x-python",
   "name": "python",
   "nbconvert_exporter": "python",
   "pygments_lexer": "ipython3",
   "version": "3.7.3"
  }
 },
 "nbformat": 4,
 "nbformat_minor": 2
}
